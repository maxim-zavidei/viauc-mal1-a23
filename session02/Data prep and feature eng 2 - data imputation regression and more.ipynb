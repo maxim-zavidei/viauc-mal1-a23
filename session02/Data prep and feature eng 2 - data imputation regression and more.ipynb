{
 "cells": [
  {
   "cell_type": "markdown",
   "metadata": {
    "_uuid": "f9173270cb9c14f0fb0549400806e90ea5dc4c94"
   },
   "source": [
    "# Missing Data Imputation using Regression"
   ]
  },
  {
   "cell_type": "markdown",
   "metadata": {
    "_uuid": "24525b236ed5ad9b3886681d56e930f5d3b0fa46"
   },
   "source": [
    "### Why imputation?"
   ]
  },
  {
   "cell_type": "markdown",
   "metadata": {
    "_uuid": "81b5eb3245a9a5993fde1be73856caf6556e576c"
   },
   "source": [
    "The first question is, why do we need to impute the missing data in the first place? Can't we just delete them?\n",
    "\n",
    "Well, that would be one method of handling missing values called __Complete Case Analysis__, something which is (very) rarely used. The obvious reason being that, if we delete the data point containing missing data (__List wise deletion__), we will end up with a small number of samples to train our learning model and thus accuracy would be of concern. And, if we summarise the variables with it's observed values (__Available Case Analysis__), we consider different samples while summarising each variable."
   ]
  },
  {
   "cell_type": "markdown",
   "metadata": {
    "_uuid": "9a49dd6f14ccaba6db51c3a8fb6e55ac599be5dd"
   },
   "source": [
    "### Why not impute with a common value? "
   ]
  },
  {
   "cell_type": "markdown",
   "metadata": {
    "_uuid": "55fe3d0e234deba0e54c78c829195c8d8c0d9426"
   },
   "source": [
    "Then, why not impute the missing data with the __Measure of Central Tendency__ of the variable? That does sound like a safe approach (and also pretty easy to implement).\n",
    "\n",
    "Apparently not. \n",
    "\n",
    "When we replace the missing data with some common value we might under(over)estimate it. In other words, we add some bias to our estimation. For example, a person who earns just enough to meet his daily needs might not be comfortable in mentioning his salary, and thus the value for the variable `salary` would be missing for such a person. However, if we impute it with the mean value of the variable, we are overestimating that person's salary and thus introducing bias in our analysis."
   ]
  },
  {
   "cell_type": "markdown",
   "metadata": {
    "_uuid": "ed2872b6e1bc7b80bd95ba931c45009195abcd3c"
   },
   "source": [
    "### What next?"
   ]
  },
  {
   "cell_type": "markdown",
   "metadata": {
    "_uuid": "ecd7904fc10c10e5e837c06d3827ec488a552604"
   },
   "source": [
    "There are many missing data imputation methods to avoid these troublesome cases and __Regression Imputation__ is one such method in which we estimate the missing values by Regression using other variables as the parameters."
   ]
  },
  {
   "cell_type": "code",
   "execution_count": 1,
   "metadata": {},
   "outputs": [
    {
     "name": "stdout",
     "output_type": "stream",
     "text": [
      "Requirement already satisfied: missingno in c:\\anaconda3\\lib\\site-packages (0.5.1)\n",
      "Requirement already satisfied: numpy in c:\\anaconda3\\lib\\site-packages (from missingno) (1.18.1)\n",
      "Requirement already satisfied: matplotlib in c:\\anaconda3\\lib\\site-packages (from missingno) (3.1.3)\n",
      "Requirement already satisfied: seaborn in c:\\anaconda3\\lib\\site-packages (from missingno) (0.10.0)\n",
      "Requirement already satisfied: scipy in c:\\anaconda3\\lib\\site-packages (from missingno) (1.4.1)\n",
      "Requirement already satisfied: pyparsing!=2.0.4,!=2.1.2,!=2.1.6,>=2.0.1 in c:\\anaconda3\\lib\\site-packages (from matplotlib->missingno) (2.4.6)\n",
      "Requirement already satisfied: cycler>=0.10 in c:\\anaconda3\\lib\\site-packages (from matplotlib->missingno) (0.10.0)\n",
      "Requirement already satisfied: python-dateutil>=2.1 in c:\\anaconda3\\lib\\site-packages (from matplotlib->missingno) (2.8.1)\n",
      "Requirement already satisfied: kiwisolver>=1.0.1 in c:\\anaconda3\\lib\\site-packages (from matplotlib->missingno) (1.1.0)\n",
      "Requirement already satisfied: pandas>=0.22.0 in c:\\anaconda3\\lib\\site-packages (from seaborn->missingno) (1.0.1)\n",
      "Requirement already satisfied: six in c:\\anaconda3\\lib\\site-packages (from cycler>=0.10->matplotlib->missingno) (1.14.0)\n",
      "Requirement already satisfied: setuptools in c:\\anaconda3\\lib\\site-packages (from kiwisolver>=1.0.1->matplotlib->missingno) (45.2.0.post20200210)\n",
      "Requirement already satisfied: pytz>=2017.2 in c:\\anaconda3\\lib\\site-packages (from pandas>=0.22.0->seaborn->missingno) (2019.3)\n",
      "Note: you may need to restart the kernel to use updated packages.\n"
     ]
    }
   ],
   "source": [
    "pip install missingno"
   ]
  },
  {
   "cell_type": "markdown",
   "metadata": {
    "_uuid": "0a881c4852a4fc76d301ae342adda5f3a4545644"
   },
   "source": [
    "## Determining missing values "
   ]
  },
  {
   "cell_type": "code",
   "execution_count": 2,
   "metadata": {
    "_uuid": "9a2c4a8f6a4bd0268df04b3c341c5a11462ca6c1",
    "jupyter": {
     "outputs_hidden": true
    }
   },
   "outputs": [],
   "source": [
    "import pandas as pd\n",
    "import numpy as np\n",
    "import matplotlib.pyplot as plt\n",
    "import seaborn as sns\n",
    "import missingno as mno\n",
    "from sklearn import linear_model\n",
    "%matplotlib inline"
   ]
  },
  {
   "cell_type": "markdown",
   "metadata": {
    "_uuid": "ffe3357fdb62d38d30260487fa7cac8781f7ac97"
   },
   "source": [
    "Pima Indians Diabetes dataset is used for our analysis. The objective of the dataset is to diagnostically predict whether or not a patient has diabetes, based on certain diagnostic measurements included in the dataset.  You can read more about the dataset in the `Data` section of this kernel.\n",
    "\n",
    "After importing the required libraries, we analyse and determine for availability for any missing data."
   ]
  },
  {
   "cell_type": "code",
   "execution_count": 3,
   "metadata": {
    "_uuid": "485bace17a49b1e7f38c85e13dad283615b8ba57",
    "jupyter": {
     "outputs_hidden": true
    }
   },
   "outputs": [
    {
     "data": {
      "text/html": [
       "<div>\n",
       "<style scoped>\n",
       "    .dataframe tbody tr th:only-of-type {\n",
       "        vertical-align: middle;\n",
       "    }\n",
       "\n",
       "    .dataframe tbody tr th {\n",
       "        vertical-align: top;\n",
       "    }\n",
       "\n",
       "    .dataframe thead th {\n",
       "        text-align: right;\n",
       "    }\n",
       "</style>\n",
       "<table border=\"1\" class=\"dataframe\">\n",
       "  <thead>\n",
       "    <tr style=\"text-align: right;\">\n",
       "      <th></th>\n",
       "      <th>Pregnancies</th>\n",
       "      <th>Glucose</th>\n",
       "      <th>BloodPressure</th>\n",
       "      <th>SkinThickness</th>\n",
       "      <th>Insulin</th>\n",
       "      <th>BMI</th>\n",
       "      <th>DiabetesPedigreeFunction</th>\n",
       "      <th>Age</th>\n",
       "      <th>Outcome</th>\n",
       "    </tr>\n",
       "  </thead>\n",
       "  <tbody>\n",
       "    <tr>\n",
       "      <th>0</th>\n",
       "      <td>6</td>\n",
       "      <td>148</td>\n",
       "      <td>72</td>\n",
       "      <td>35</td>\n",
       "      <td>0</td>\n",
       "      <td>33.6</td>\n",
       "      <td>0.627</td>\n",
       "      <td>50</td>\n",
       "      <td>1</td>\n",
       "    </tr>\n",
       "    <tr>\n",
       "      <th>1</th>\n",
       "      <td>1</td>\n",
       "      <td>85</td>\n",
       "      <td>66</td>\n",
       "      <td>29</td>\n",
       "      <td>0</td>\n",
       "      <td>26.6</td>\n",
       "      <td>0.351</td>\n",
       "      <td>31</td>\n",
       "      <td>0</td>\n",
       "    </tr>\n",
       "    <tr>\n",
       "      <th>2</th>\n",
       "      <td>8</td>\n",
       "      <td>183</td>\n",
       "      <td>64</td>\n",
       "      <td>0</td>\n",
       "      <td>0</td>\n",
       "      <td>23.3</td>\n",
       "      <td>0.672</td>\n",
       "      <td>32</td>\n",
       "      <td>1</td>\n",
       "    </tr>\n",
       "  </tbody>\n",
       "</table>\n",
       "</div>"
      ],
      "text/plain": [
       "   Pregnancies  Glucose  BloodPressure  SkinThickness  Insulin   BMI  \\\n",
       "0            6      148             72             35        0  33.6   \n",
       "1            1       85             66             29        0  26.6   \n",
       "2            8      183             64              0        0  23.3   \n",
       "\n",
       "   DiabetesPedigreeFunction  Age  Outcome  \n",
       "0                     0.627   50        1  \n",
       "1                     0.351   31        0  \n",
       "2                     0.672   32        1  "
      ]
     },
     "execution_count": 3,
     "metadata": {},
     "output_type": "execute_result"
    }
   ],
   "source": [
    "df = pd.read_csv(\"diabetes.csv\")\n",
    "df.head(3)"
   ]
  },
  {
   "cell_type": "markdown",
   "metadata": {
    "_uuid": "551f66d365daf3f295fcea45577bba0a5f9186d9"
   },
   "source": [
    "A simple `df.info()` is ran for a quick and abstract check for missing data in any of the variables. This lists the number of non-null values and the datatype of each variable."
   ]
  },
  {
   "cell_type": "code",
   "execution_count": 4,
   "metadata": {
    "_uuid": "9a1f3c4d539538258cfe29c346a53b8f7ca719aa",
    "jupyter": {
     "outputs_hidden": true
    }
   },
   "outputs": [
    {
     "name": "stdout",
     "output_type": "stream",
     "text": [
      "<class 'pandas.core.frame.DataFrame'>\n",
      "RangeIndex: 768 entries, 0 to 767\n",
      "Data columns (total 9 columns):\n",
      " #   Column                    Non-Null Count  Dtype  \n",
      "---  ------                    --------------  -----  \n",
      " 0   Pregnancies               768 non-null    int64  \n",
      " 1   Glucose                   768 non-null    int64  \n",
      " 2   BloodPressure             768 non-null    int64  \n",
      " 3   SkinThickness             768 non-null    int64  \n",
      " 4   Insulin                   768 non-null    int64  \n",
      " 5   BMI                       768 non-null    float64\n",
      " 6   DiabetesPedigreeFunction  768 non-null    float64\n",
      " 7   Age                       768 non-null    int64  \n",
      " 8   Outcome                   768 non-null    int64  \n",
      "dtypes: float64(2), int64(7)\n",
      "memory usage: 54.1 KB\n"
     ]
    }
   ],
   "source": [
    "df.info()"
   ]
  },
  {
   "cell_type": "markdown",
   "metadata": {
    "_uuid": "ed679bf6cfd54cfec3a78c640faf511e1d98f8cd"
   },
   "source": [
    "None of the variables seem to have any missing value based on our above observation. But there's more to it than what meets the eye. `df.describe()` which gives the Five Number Summary would show that some variables have `0.0` as their minimum value which would be meaningless in their case. __Plasma glucose concentration, Diastolic blood pressure, Triceps skinfold thickness, 2-Hour serum insulin and Body mass index__ cannot be zero. \n",
    "\n",
    "Imagine BMI to be zero. That would be a disaster!\n",
    "\n",
    "On the contrary, __Pregnencies__ can be zero because either that person is a female who has not had a baby yet."
   ]
  },
  {
   "cell_type": "code",
   "execution_count": 11,
   "metadata": {
    "_uuid": "8ee3859a58da739aa665ecbb2ad8395909a00280",
    "jupyter": {
     "outputs_hidden": true
    },
    "scrolled": false
   },
   "outputs": [
    {
     "data": {
      "text/html": [
       "<div>\n",
       "<style scoped>\n",
       "    .dataframe tbody tr th:only-of-type {\n",
       "        vertical-align: middle;\n",
       "    }\n",
       "\n",
       "    .dataframe tbody tr th {\n",
       "        vertical-align: top;\n",
       "    }\n",
       "\n",
       "    .dataframe thead th {\n",
       "        text-align: right;\n",
       "    }\n",
       "</style>\n",
       "<table border=\"1\" class=\"dataframe\">\n",
       "  <thead>\n",
       "    <tr style=\"text-align: right;\">\n",
       "      <th></th>\n",
       "      <th>Pregnancies</th>\n",
       "      <th>Glucose</th>\n",
       "      <th>BloodPressure</th>\n",
       "      <th>SkinThickness</th>\n",
       "      <th>Insulin</th>\n",
       "      <th>BMI</th>\n",
       "      <th>DiabetesPedigreeFunction</th>\n",
       "      <th>Age</th>\n",
       "      <th>Outcome</th>\n",
       "      <th>Glucose_imp</th>\n",
       "      <th>BloodPressure_imp</th>\n",
       "      <th>SkinThickness_imp</th>\n",
       "      <th>Insulin_imp</th>\n",
       "      <th>BMI_imp</th>\n",
       "    </tr>\n",
       "  </thead>\n",
       "  <tbody>\n",
       "    <tr>\n",
       "      <th>count</th>\n",
       "      <td>768.000000</td>\n",
       "      <td>763.000000</td>\n",
       "      <td>733.000000</td>\n",
       "      <td>541.000000</td>\n",
       "      <td>394.000000</td>\n",
       "      <td>757.000000</td>\n",
       "      <td>768.000000</td>\n",
       "      <td>768.000000</td>\n",
       "      <td>768.000000</td>\n",
       "      <td>768.000000</td>\n",
       "      <td>768.000000</td>\n",
       "      <td>768.000000</td>\n",
       "      <td>768.000000</td>\n",
       "      <td>768.000000</td>\n",
       "    </tr>\n",
       "    <tr>\n",
       "      <th>mean</th>\n",
       "      <td>3.845052</td>\n",
       "      <td>121.686763</td>\n",
       "      <td>72.405184</td>\n",
       "      <td>29.153420</td>\n",
       "      <td>155.548223</td>\n",
       "      <td>32.457464</td>\n",
       "      <td>0.471876</td>\n",
       "      <td>33.240885</td>\n",
       "      <td>0.348958</td>\n",
       "      <td>121.654948</td>\n",
       "      <td>72.401042</td>\n",
       "      <td>29.005208</td>\n",
       "      <td>154.576823</td>\n",
       "      <td>32.448958</td>\n",
       "    </tr>\n",
       "    <tr>\n",
       "      <th>std</th>\n",
       "      <td>3.369578</td>\n",
       "      <td>30.535641</td>\n",
       "      <td>12.382158</td>\n",
       "      <td>10.476982</td>\n",
       "      <td>118.775855</td>\n",
       "      <td>6.924988</td>\n",
       "      <td>0.331329</td>\n",
       "      <td>11.760232</td>\n",
       "      <td>0.476951</td>\n",
       "      <td>30.501920</td>\n",
       "      <td>12.291467</td>\n",
       "      <td>10.515152</td>\n",
       "      <td>116.895642</td>\n",
       "      <td>6.913683</td>\n",
       "    </tr>\n",
       "    <tr>\n",
       "      <th>min</th>\n",
       "      <td>0.000000</td>\n",
       "      <td>44.000000</td>\n",
       "      <td>24.000000</td>\n",
       "      <td>7.000000</td>\n",
       "      <td>14.000000</td>\n",
       "      <td>18.200000</td>\n",
       "      <td>0.078000</td>\n",
       "      <td>21.000000</td>\n",
       "      <td>0.000000</td>\n",
       "      <td>44.000000</td>\n",
       "      <td>24.000000</td>\n",
       "      <td>7.000000</td>\n",
       "      <td>14.000000</td>\n",
       "      <td>18.200000</td>\n",
       "    </tr>\n",
       "    <tr>\n",
       "      <th>25%</th>\n",
       "      <td>1.000000</td>\n",
       "      <td>99.000000</td>\n",
       "      <td>64.000000</td>\n",
       "      <td>22.000000</td>\n",
       "      <td>76.250000</td>\n",
       "      <td>27.500000</td>\n",
       "      <td>0.243750</td>\n",
       "      <td>24.000000</td>\n",
       "      <td>0.000000</td>\n",
       "      <td>99.000000</td>\n",
       "      <td>64.000000</td>\n",
       "      <td>22.000000</td>\n",
       "      <td>76.000000</td>\n",
       "      <td>27.475000</td>\n",
       "    </tr>\n",
       "    <tr>\n",
       "      <th>50%</th>\n",
       "      <td>3.000000</td>\n",
       "      <td>117.000000</td>\n",
       "      <td>72.000000</td>\n",
       "      <td>29.000000</td>\n",
       "      <td>125.000000</td>\n",
       "      <td>32.300000</td>\n",
       "      <td>0.372500</td>\n",
       "      <td>29.000000</td>\n",
       "      <td>0.000000</td>\n",
       "      <td>117.000000</td>\n",
       "      <td>72.000000</td>\n",
       "      <td>29.000000</td>\n",
       "      <td>125.000000</td>\n",
       "      <td>32.350000</td>\n",
       "    </tr>\n",
       "    <tr>\n",
       "      <th>75%</th>\n",
       "      <td>6.000000</td>\n",
       "      <td>141.000000</td>\n",
       "      <td>80.000000</td>\n",
       "      <td>36.000000</td>\n",
       "      <td>190.000000</td>\n",
       "      <td>36.600000</td>\n",
       "      <td>0.626250</td>\n",
       "      <td>41.000000</td>\n",
       "      <td>1.000000</td>\n",
       "      <td>140.250000</td>\n",
       "      <td>80.000000</td>\n",
       "      <td>36.000000</td>\n",
       "      <td>190.000000</td>\n",
       "      <td>36.600000</td>\n",
       "    </tr>\n",
       "    <tr>\n",
       "      <th>max</th>\n",
       "      <td>17.000000</td>\n",
       "      <td>199.000000</td>\n",
       "      <td>122.000000</td>\n",
       "      <td>99.000000</td>\n",
       "      <td>846.000000</td>\n",
       "      <td>67.100000</td>\n",
       "      <td>2.420000</td>\n",
       "      <td>81.000000</td>\n",
       "      <td>1.000000</td>\n",
       "      <td>199.000000</td>\n",
       "      <td>122.000000</td>\n",
       "      <td>99.000000</td>\n",
       "      <td>846.000000</td>\n",
       "      <td>67.100000</td>\n",
       "    </tr>\n",
       "  </tbody>\n",
       "</table>\n",
       "</div>"
      ],
      "text/plain": [
       "       Pregnancies     Glucose  BloodPressure  SkinThickness     Insulin  \\\n",
       "count   768.000000  763.000000     733.000000     541.000000  394.000000   \n",
       "mean      3.845052  121.686763      72.405184      29.153420  155.548223   \n",
       "std       3.369578   30.535641      12.382158      10.476982  118.775855   \n",
       "min       0.000000   44.000000      24.000000       7.000000   14.000000   \n",
       "25%       1.000000   99.000000      64.000000      22.000000   76.250000   \n",
       "50%       3.000000  117.000000      72.000000      29.000000  125.000000   \n",
       "75%       6.000000  141.000000      80.000000      36.000000  190.000000   \n",
       "max      17.000000  199.000000     122.000000      99.000000  846.000000   \n",
       "\n",
       "              BMI  DiabetesPedigreeFunction         Age     Outcome  \\\n",
       "count  757.000000                768.000000  768.000000  768.000000   \n",
       "mean    32.457464                  0.471876   33.240885    0.348958   \n",
       "std      6.924988                  0.331329   11.760232    0.476951   \n",
       "min     18.200000                  0.078000   21.000000    0.000000   \n",
       "25%     27.500000                  0.243750   24.000000    0.000000   \n",
       "50%     32.300000                  0.372500   29.000000    0.000000   \n",
       "75%     36.600000                  0.626250   41.000000    1.000000   \n",
       "max     67.100000                  2.420000   81.000000    1.000000   \n",
       "\n",
       "       Glucose_imp  BloodPressure_imp  SkinThickness_imp  Insulin_imp  \\\n",
       "count   768.000000         768.000000         768.000000   768.000000   \n",
       "mean    121.654948          72.401042          29.005208   154.576823   \n",
       "std      30.501920          12.291467          10.515152   116.895642   \n",
       "min      44.000000          24.000000           7.000000    14.000000   \n",
       "25%      99.000000          64.000000          22.000000    76.000000   \n",
       "50%     117.000000          72.000000          29.000000   125.000000   \n",
       "75%     140.250000          80.000000          36.000000   190.000000   \n",
       "max     199.000000         122.000000          99.000000   846.000000   \n",
       "\n",
       "          BMI_imp  \n",
       "count  768.000000  \n",
       "mean    32.448958  \n",
       "std      6.913683  \n",
       "min     18.200000  \n",
       "25%     27.475000  \n",
       "50%     32.350000  \n",
       "75%     36.600000  \n",
       "max     67.100000  "
      ]
     },
     "execution_count": 11,
     "metadata": {},
     "output_type": "execute_result"
    }
   ],
   "source": [
    "df.describe()"
   ]
  },
  {
   "cell_type": "markdown",
   "metadata": {
    "_uuid": "360d2be472d7ac756e1d311b297dedcf40863b8a"
   },
   "source": [
    "Thus, for feasibility of further analysis, we replace all these \"missing\" data with `nan` and calculate their number. As you can observe, there's enough evidence of significant missingness in those variables."
   ]
  },
  {
   "cell_type": "code",
   "execution_count": 6,
   "metadata": {
    "_uuid": "c7c4ef7a79b83e6d9e9931306403e51d735cb811",
    "jupyter": {
     "outputs_hidden": true
    }
   },
   "outputs": [
    {
     "data": {
      "text/plain": [
       "Glucose            5\n",
       "BloodPressure     35\n",
       "SkinThickness    227\n",
       "Insulin          374\n",
       "BMI               11\n",
       "dtype: int64"
      ]
     },
     "execution_count": 6,
     "metadata": {},
     "output_type": "execute_result"
    }
   ],
   "source": [
    "df.loc[df[\"Glucose\"] == 0.0, \"Glucose\"] = np.NAN\n",
    "df.loc[df[\"BloodPressure\"] == 0.0, \"BloodPressure\"] = np.NAN\n",
    "df.loc[df[\"SkinThickness\"] == 0.0, \"SkinThickness\"] = np.NAN\n",
    "df.loc[df[\"Insulin\"] == 0.0, \"Insulin\"] = np.NAN\n",
    "df.loc[df[\"BMI\"] == 0.0, \"BMI\"] = np.NAN\n",
    "\n",
    "df.isnull().sum()[1:6]"
   ]
  },
  {
   "cell_type": "markdown",
   "metadata": {
    "_uuid": "6bad22775e559ce3dd2cb8d3a842d1a14ebe184e"
   },
   "source": [
    "A better way of realizing this missingness is by visualizing the same using `missingno` package by drawing a nullity matrix. And as we can observe, `SkinThickness` and `Insulin` have a large amount of their data missing whose number is mentioned above. To keep our kernel short, I would consider only these variables for further visualizations.\n",
    "\n",
    "You can learn more about `missingno` package in the link mentioned in References below."
   ]
  },
  {
   "cell_type": "code",
   "execution_count": 7,
   "metadata": {
    "_uuid": "f34c95e44daa94914bc0ffba71bdf675bef2bc02",
    "jupyter": {
     "outputs_hidden": true
    }
   },
   "outputs": [
    {
     "data": {
      "text/plain": [
       "<matplotlib.axes._subplots.AxesSubplot at 0x2577b6a0908>"
      ]
     },
     "execution_count": 7,
     "metadata": {},
     "output_type": "execute_result"
    },
    {
     "data": {
      "image/png": "[encoded data removed]",
      "text/plain": [
       "<Figure size 1440x432 with 2 Axes>"
      ]
     },
     "metadata": {
      "needs_background": "light"
     },
     "output_type": "display_data"
    }
   ],
   "source": [
    "mno.matrix(df, figsize = (20, 6))"
   ]
  },
  {
   "cell_type": "markdown",
   "metadata": {
    "_uuid": "1a9da168d0fd084c32c464c243482a71cb7a11dd"
   },
   "source": [
    "## Using Regression to impute missing data"
   ]
  },
  {
   "cell_type": "markdown",
   "metadata": {
    "_uuid": "28886ce026a0c284c613a25585c9ee166d1811c6"
   },
   "source": [
    "When we have multiple variables with missing values, we can't just directly use Regression Imputation to impute one of them as the predictors contain missing data themselves. But then, how can we impute one variable without imputing another?\n",
    "\n",
    "We can avoid this Catch-22 situation by initially imputing all the variables with missing values using some trivial methods like __Simple Random Imputation__ (we impute the missing data with random observed values of the variable) which is later followed by Regression Imputation of each of the variables iteratively."
   ]
  },
  {
   "cell_type": "code",
   "execution_count": 8,
   "metadata": {
    "_uuid": "a078c60f07eca1eb16ec008a522b9a5f5b08558e",
    "jupyter": {
     "outputs_hidden": true
    }
   },
   "outputs": [],
   "source": [
    "missing_columns = [\"Glucose\", \"BloodPressure\", \"SkinThickness\", \"Insulin\", \"BMI\"]"
   ]
  },
  {
   "cell_type": "markdown",
   "metadata": {
    "_uuid": "41850f3ac09cc681834c3d2ecd83dcbf1687f201"
   },
   "source": [
    "The function `random_imputation` replaces the missing values with some random observed values of the variable. The method is repeated for all the variables containing missing values, after which they serve as parameters in the regression model to estimate other variable values.\n",
    "\n",
    "Simple Random Imputation is one of the crude methods since it ignores all the other available data and thus it's very rarely used. But it serves as a good starting point for regression imputation."
   ]
  },
  {
   "cell_type": "code",
   "execution_count": 9,
   "metadata": {
    "_uuid": "ed90c99ff3b4ead7f720b0f9ea5f851cf648e6ef",
    "jupyter": {
     "outputs_hidden": true
    }
   },
   "outputs": [],
   "source": [
    "def random_imputation(df, feature):\n",
    "\n",
    "    number_missing = df[feature].isnull().sum()\n",
    "    observed_values = df.loc[df[feature].notnull(), feature]\n",
    "    df.loc[df[feature].isnull(), feature + '_imp'] = np.random.choice(observed_values, number_missing, replace = True)\n",
    "    \n",
    "    return df"
   ]
  },
  {
   "cell_type": "code",
   "execution_count": 10,
   "metadata": {
    "_uuid": "aa01a27669c0230aa298139e5e4f0e1a0f056e65",
    "jupyter": {
     "outputs_hidden": true
    }
   },
   "outputs": [],
   "source": [
    "for feature in missing_columns:\n",
    "    df[feature + '_imp'] = df[feature]\n",
    "    df = random_imputation(df, feature)"
   ]
  },
  {
   "cell_type": "markdown",
   "metadata": {
    "_uuid": "2856d26fbe0011e2b01e6c0da885a3fdd8b8b6be"
   },
   "source": [
    "### Deterministic Regression Imputation "
   ]
  },
  {
   "cell_type": "markdown",
   "metadata": {
    "_uuid": "1fb201bb42400f6f15a6d5f3c6809842dba346bb"
   },
   "source": [
    "In __Deterministic Regression Imputation__, we replace the missing data with the values predicted in our regression model and repeat this process for each variable."
   ]
  },
  {
   "cell_type": "code",
   "execution_count": 10,
   "metadata": {
    "_uuid": "567fcfdd19e4aefbd39e04e0bea21b603beea7eb",
    "collapsed": true,
    "jupyter": {
     "outputs_hidden": true
    }
   },
   "outputs": [],
   "source": [
    "deter_data = pd.DataFrame(columns = [\"Det\" + name for name in missing_columns])\n",
    "\n",
    "for feature in missing_columns:\n",
    "        \n",
    "    deter_data[\"Det\" + feature] = df[feature + \"_imp\"]\n",
    "    parameters = list(set(df.columns) - set(missing_columns) - {feature + '_imp'})\n",
    "    \n",
    "    #Create a Linear Regression model to estimate the missing data\n",
    "    model = linear_model.LinearRegression()\n",
    "    model.fit(X = df[parameters], y = df[feature + '_imp'])\n",
    "    \n",
    "    #observe that I preserve the index of the missing data from the original dataframe\n",
    "    deter_data.loc[df[feature].isnull(), \"Det\" + feature] = model.predict(df[parameters])[df[feature].isnull()]"
   ]
  },
  {
   "cell_type": "code",
   "execution_count": 11,
   "metadata": {
    "_uuid": "f74879b19dd81c7fb92660f34a8e732d760bbf28",
    "collapsed": true,
    "jupyter": {
     "outputs_hidden": true
    }
   },
   "outputs": [],
   "source": [
    "mno.matrix(deter_data, figsize = (20,5))"
   ]
  },
  {
   "cell_type": "markdown",
   "metadata": {
    "_uuid": "edfcba6f43b00dbd8d6b4bad7d2f684a8fa2b45d"
   },
   "source": [
    "A major disadvantage in this method is that we reduce the inherent variability in the imputed variable. In other words, since we substitute the missing data with regression outputs, the predicted values lie along the regression hyperplane where the variable would have actually contained some noise/bias.\n",
    "\n",
    "We can visualize the above fact in a number of ways. First one is plotting histograms for both the incomplete data and the complete data in which we can observe that the plot of the completed data is taller and narrower when compared to that of the incomplete data. In other words, the complete data has a lesser standard deviation (thus lesser variability) than the incomplete data.\n",
    "\n",
    "Another method would be plotting a boxplot in which we can observe that the IQ Range is pretty compressed for the complete data when compared to that in the incomplete data."
   ]
  },
  {
   "cell_type": "code",
   "execution_count": 12,
   "metadata": {
    "_uuid": "e17f66b7b5dcace6caf9f3cff02d8b14243de8bc",
    "collapsed": true,
    "jupyter": {
     "outputs_hidden": true
    }
   },
   "outputs": [],
   "source": [
    "sns.set()\n",
    "fig, axes = plt.subplots(nrows = 2, ncols = 2)\n",
    "fig.set_size_inches(8, 8)\n",
    "\n",
    "for index, variable in enumerate([\"Insulin\", \"SkinThickness\"]):\n",
    "    sns.distplot(df[variable].dropna(), kde = False, ax = axes[index, 0])\n",
    "    sns.distplot(deter_data[\"Det\" + variable], kde = False, ax = axes[index, 0], color = 'red')\n",
    "    \n",
    "    sns.boxplot(data = pd.concat([df[variable], deter_data[\"Det\" + variable]], axis = 1),\n",
    "                ax = axes[index, 1])\n",
    "    \n",
    "plt.tight_layout()"
   ]
  },
  {
   "cell_type": "code",
   "execution_count": 13,
   "metadata": {
    "_uuid": "eaa248950b3f9bac3a1ae627659df35ce9db442f",
    "collapsed": true,
    "jupyter": {
     "outputs_hidden": true
    }
   },
   "outputs": [],
   "source": [
    "pd.concat([df[[\"Insulin\", \"SkinThickness\"]], deter_data[[\"DetInsulin\", \"DetSkinThickness\"]]], axis = 1).describe().T"
   ]
  },
  {
   "cell_type": "markdown",
   "metadata": {
    "_uuid": "1741de5ecfc92deaf510355d1f94b3037a7fa2ce"
   },
   "source": [
    "### Stochastic Regression Imputation "
   ]
  },
  {
   "cell_type": "markdown",
   "metadata": {
    "_uuid": "3074ed3ebf317f8f83c43fcd6ed318b217325a99"
   },
   "source": [
    "To add uncertainity back to the imputed variable values, we can add some normally distributed noise with a mean of zero and the variance equal to the standard error of regression estimates . This method is called as __Random Imputation__ or __Stochastic Regression Imputation__"
   ]
  },
  {
   "cell_type": "code",
   "execution_count": 14,
   "metadata": {
    "_uuid": "1117ab735a90cd482fb7c60d9ddca955ab4aedd3",
    "collapsed": true,
    "jupyter": {
     "outputs_hidden": true
    }
   },
   "outputs": [],
   "source": [
    "random_data = pd.DataFrame(columns = [\"Ran\" + name for name in missing_columns])\n",
    "\n",
    "for feature in missing_columns:\n",
    "        \n",
    "    random_data[\"Ran\" + feature] = df[feature + '_imp']\n",
    "    parameters = list(set(df.columns) - set(missing_columns) - {feature + '_imp'})\n",
    "    \n",
    "    model = linear_model.LinearRegression()\n",
    "    model.fit(X = df[parameters], y = df[feature + '_imp'])\n",
    "    \n",
    "    #Standard Error of the regression estimates is equal to std() of the errors of each estimates\n",
    "    predict = model.predict(df[parameters])\n",
    "    std_error = (predict[df[feature].notnull()] - df.loc[df[feature].notnull(), feature + '_imp']).std()\n",
    "    \n",
    "    #observe that I preserve the index of the missing data from the original dataframe\n",
    "    random_predict = np.random.normal(size = df[feature].shape[0], \n",
    "                                      loc = predict, \n",
    "                                      scale = std_error)\n",
    "    random_data.loc[(df[feature].isnull()) & (random_predict > 0), \"Ran\" + feature] = random_predict[(df[feature].isnull()) & \n",
    "                                                                            (random_predict > 0)]\n"
   ]
  },
  {
   "cell_type": "markdown",
   "metadata": {
    "_uuid": "7da8b681bd3054b72ca3d197edfb7d36642d8577"
   },
   "source": [
    "When we introduce this Gaussian noise we may end up imputing some negative values for the missing data due to the spread of the distibution for a particular pair of mean and standard deviation. But, as per our discussion earlier, there might be some variable whose values can never be zero. For example, a negative value for Insulin concentrations would be meaningless. \n",
    "\n",
    "We can avoid this situation by retaining the values introduced by simple random imputation which is discussed above. This apparently reduces the variability that we introduce, but it's something we have to deal with, especially in case of these variables whose values are restricted to ceratin parts of the real number line."
   ]
  },
  {
   "cell_type": "code",
   "execution_count": 15,
   "metadata": {
    "_uuid": "3487c7495c3c094b5b3f042e2f198dcd3746c806",
    "collapsed": true,
    "jupyter": {
     "outputs_hidden": true
    }
   },
   "outputs": [],
   "source": [
    "sns.set()\n",
    "fig, axes = plt.subplots(nrows = 2, ncols = 2)\n",
    "fig.set_size_inches(8, 8)\n",
    "\n",
    "for index, variable in enumerate([\"Insulin\", \"SkinThickness\"]):\n",
    "    sns.distplot(df[variable].dropna(), kde = False, ax = axes[index, 0])\n",
    "    sns.distplot(random_data[\"Ran\" + variable], kde = False, ax = axes[index, 0], color = 'red')\n",
    "    axes[index, 0].set(xlabel = variable + \" / \" + variable + '_imp')\n",
    "    \n",
    "    sns.boxplot(data = pd.concat([df[variable], random_data[\"Ran\" + variable]], axis = 1),\n",
    "                ax = axes[index, 1])\n",
    "    \n",
    "    plt.tight_layout()"
   ]
  },
  {
   "cell_type": "markdown",
   "metadata": {
    "_uuid": "bb22c7a8f6a5b760acf1d05e5a1a3afcb7934647"
   },
   "source": [
    "We can observe from the plots above that we have introduced some degree of variability into the variables and retained the native distribution as well."
   ]
  },
  {
   "cell_type": "code",
   "execution_count": 16,
   "metadata": {
    "_uuid": "6426ab6a22a3738abbd588f90da9dc55a0bebce0",
    "collapsed": true,
    "jupyter": {
     "outputs_hidden": true
    }
   },
   "outputs": [],
   "source": [
    "pd.concat([df[[\"Insulin\", \"SkinThickness\"]], random_data[[\"RanInsulin\", \"RanSkinThickness\"]]], axis = 1).describe().T"
   ]
  },
  {
   "cell_type": "markdown",
   "metadata": {
    "_uuid": "7741a57b1a9beac0b48f9e8a3e0f6a91d5eefbc8"
   },
   "source": [
    "An issue of concern about is that, Regression Imputation might not serve as the best method when a variable is missing majority of it's data, as in case of `insulin`. In these cases we have to use more powerful approaches as Maximum Likelihood Imputation and Multple Imputaton"
   ]
  },
  {
   "cell_type": "markdown",
   "metadata": {
    "_uuid": "38dc78aba1ac08a2aec6673215b3f4079224a677"
   },
   "source": [
    "### Notes"
   ]
  },
  {
   "cell_type": "markdown",
   "metadata": {
    "_uuid": "369cf284a99f0f20b733f56f66cead154d6a824a"
   },
   "source": [
    "1. Regression Imputation assumes that the data is Missing At Random, more about it can be found in the refereneces below.\n",
    "2. For a better Regression model, we might have to follow different Data Transformation methods depending on our data.\n",
    "3. Do observe that we have included `Outcome` as one of our predictors eventhough it is caused by the other variables under scrutiny.\n",
    "4. __This kernel does not describe the best method for many cases, rather it justs the demonstrates Regression Imputation as one of the methods.__"
   ]
  },
  {
   "cell_type": "markdown",
   "metadata": {
    "_uuid": "faab9f2eb909277619fe164545af4dca2109e90d"
   },
   "source": [
    "## References "
   ]
  },
  {
   "cell_type": "markdown",
   "metadata": {
    "_uuid": "5942d4f024fb1ce8f966d2b29c2cd2fb50762b5a"
   },
   "source": [
    "* Chapter 1, Applied Missing Data Analysis - Craig K. Enders\n",
    "\n",
    "* [Chapter 25, Data Analysis Using Regression and\n",
    "Multilevel/Hierarchical Models - Andrew Gelman, Jennifer Hill](http://www.stat.columbia.edu/~gelman/arm/missing.pdf)\n",
    "\n",
    "* [Missing Data](https://www.iriseekhout.com/missing-data/)\n",
    "\n",
    "* [missingno - Missing data visualization package](https://github.com/ResidentMario/missingno)"
   ]
  }
 ],
 "metadata": {
  "kernelspec": {
   "display_name": "Python 3",
   "language": "python",
   "name": "python3"
  },
  "language_info": {
   "codemirror_mode": {
    "name": "ipython",
    "version": 3
   },
   "file_extension": ".py",
   "mimetype": "text/x-python",
   "name": "python",
   "nbconvert_exporter": "python",
   "pygments_lexer": "ipython3",
   "version": "3.7.6"
  }
 },
 "nbformat": 4,
 "nbformat_minor": 4
}
