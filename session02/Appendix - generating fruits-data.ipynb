{
 "cells": [
  {
   "cell_type": "markdown",
   "metadata": {},
   "source": [
    "## The fruits dataset"
   ]
  },
  {
   "cell_type": "markdown",
   "metadata": {},
   "source": [
    "Below, the fruits dataset is generated and saved to a CSV-file. The dataset consists of:"
   ]
  },
  {
   "cell_type": "markdown",
   "metadata": {},
   "source": [
    "We create a toy dataset, consisting of fruits with different colors and diameters. In the data set there are approximately:\n",
    "- 500 grapes with a mean diameter of 1.5cm and a color which is a random assignment of either green or red.\n",
    "- 400 ripe apples with a mean diameter of 7cm and a color which is a random assignment of green, red or yellow.\n",
    "- 100 unripe apples with a mean diameter of 3cm, which are all green."
   ]
  },
  {
   "cell_type": "code",
   "execution_count": 1,
   "metadata": {},
   "outputs": [],
   "source": [
    "import pandas as pd \n",
    "import numpy as np\n",
    "\n",
    "rnd = np.random.RandomState(0)\n",
    "\n",
    "num_grapes, loc_grapes, scale_grapes = 500, 1.5, 0.9\n",
    "num_apples, loc_apples, scale_apples = 400, 7, 3\n",
    "num_unripe_apples, loc_unripe_apples, scale_unripe_apples = 100, 3, 2\n",
    "\n",
    "# Grapes:\n",
    "diameter_grapes = rnd.normal(size=num_grapes, loc=loc_grapes, scale=scale_grapes)\n",
    "diameter = diameter_grapes[diameter_grapes > 0]\n",
    "colors_grapes = rnd.choice(['Red', 'Green'], size=len(diameter_grapes))\n",
    "labels_grapes = rnd.choice(['Grape'], size=len(diameter_grapes))\n",
    "\n",
    "# Apples:\n",
    "diameter_apples = rnd.normal(size=num_apples, loc=loc_apples, scale=scale_apples)\n",
    "diameter_apples = diameter_apples[diameter_apples > 0] \n",
    "colors_apples = rnd.choice(['Red', 'Green', 'Yellow'], size=len(diameter_apples))\n",
    "labels_apples = rnd.choice(['Apple'], size=len(diameter_apples))\n",
    "\n",
    "# Unripe apples:\n",
    "diameter_unripe_apples = rnd.normal(size=num_unripe_apples, loc=loc_unripe_apples, scale=scale_unripe_apples)\n",
    "diameter_unripe_apples = diameter_unripe_apples[diameter_unripe_apples > 0]\n",
    "colors_unripe_apples = rnd.choice(['Green'], size=len(diameter_unripe_apples))\n",
    "labels_unripe_apples = rnd.choice(['Apple'], size=len(diameter_unripe_apples))\n",
    "\n",
    "# We stack the colors, diameters and fruit-labels respectively, and combine them into a dataset:\n",
    "colors = np.hstack((colors_grapes, colors_apples, colors_unripe_apples))\n",
    "diameters = np.hstack((diameter_grapes, diameter_apples, diameter_unripe_apples))\n",
    "labels = np.hstack((labels_grapes, labels_apples, labels_unripe_apples))\n",
    "\n",
    "data = np.vstack((colors, diameters, labels)).T\n",
    "np.random.shuffle(data)\n",
    "\n",
    "pd.DataFrame(data).to_csv(\"fruits-data.csv\", header = [\"Color\",\"Diameter\",\"Label\"])"
   ]
  },
  {
   "cell_type": "code",
   "execution_count": null,
   "metadata": {
    "collapsed": true
   },
   "outputs": [],
   "source": []
  }
 ],
 "metadata": {
  "kernelspec": {
   "display_name": "Python 3",
   "language": "python",
   "name": "python3"
  },
  "language_info": {
   "codemirror_mode": {
    "name": "ipython",
    "version": 3
   },
   "file_extension": ".py",
   "mimetype": "text/x-python",
   "name": "python",
   "nbconvert_exporter": "python",
   "pygments_lexer": "ipython3",
   "version": "3.7.6"
  }
 },
 "nbformat": 4,
 "nbformat_minor": 2
}
