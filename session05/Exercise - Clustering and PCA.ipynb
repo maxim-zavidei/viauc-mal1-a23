{
 "cells": [
  {
   "cell_type": "code",
   "execution_count": 2,
   "metadata": {},
   "outputs": [
    {
     "name": "stderr",
     "output_type": "stream",
     "text": [
      "C:\\Users\\IOOD\\AppData\\Local\\Continuum\\anaconda3\\lib\\site-packages\\sklearn\\externals\\six.py:31: DeprecationWarning: The module is deprecated in version 0.21 and will be removed in version 0.23 since we've dropped support for Python 2.7. Please rely on the official version of six (https://pypi.org/project/six/).\n",
      "  \"(https://pypi.org/project/six/).\", DeprecationWarning)\n",
      "C:\\Users\\IOOD\\AppData\\Local\\Continuum\\anaconda3\\lib\\site-packages\\sklearn\\externals\\joblib\\__init__.py:15: DeprecationWarning: sklearn.externals.joblib is deprecated in 0.21 and will be removed in 0.23. Please import this functionality directly from joblib, which can be installed with: pip install joblib. If this warning is raised when loading pickled models, you may need to re-serialize those models with scikit-learn 0.21+.\n",
      "  warnings.warn(msg, category=DeprecationWarning)\n"
     ]
    }
   ],
   "source": [
    "import mglearn\n",
    "%matplotlib inline\n",
    "import numpy as np\n",
    "import matplotlib.pyplot as plt\n",
    "import pandas as pd"
   ]
  },
  {
   "cell_type": "markdown",
   "metadata": {},
   "source": [
    "# Exercise 1: Clustering\n",
    "\n",
    "In this exercise you are going to perform clustering and (later) principal component analysis on a dataset of your own choice. You can for example choose either the Boston dataset or the breast cancer dataset, by uncommenting one of the cells below. However, you are also welcome to use a dataset of your own choice - the Titanic dataset could be interesting here (are there different *types* of passengers?), or you can choose a dataset from kaggle, for example one of these:\n",
    "\n",
    "\n",
    "- Identifying different customer segments in a supermarket (fake data):\n",
    "\n",
    "    https://www.kaggle.com/vjchoudhary7/customer-segmentation-tutorial-in-python\n",
    "\n",
    "\n",
    "- Movie meta-data. Can you clusters corresponding to different types of movies? Identify similar characteristics for movies that are succesful?\n",
    "\n",
    "    https://www.kaggle.com/tmdb/tmdb-movie-metadata\n",
    "\n",
    "\n",
    "- Dataset with hobbies, movie and music preferences, demographics etc for young people:\n",
    "\n",
    "    https://www.kaggle.com/miroslavsabo/young-people-survey\n",
    "\n",
    "\n",
    "- \"The ultimate Soccer database for data analysis and machine learning\":\n",
    "\n",
    "    https://www.kaggle.com/hugomathien/soccer \n"
   ]
  },
  {
   "cell_type": "code",
   "execution_count": 12,
   "metadata": {},
   "outputs": [],
   "source": [
    "# from sklearn.datasets import load_boston\n",
    "# data = load_boston()\n",
    "\n",
    "# # This lines can be used if you want to check for prices over/under the median price:\n",
    "# c = np.array([1 if y > np.median(data['target']) else 0 for y in data['target']])\n",
    "\n",
    "# print(data['DESCR'])\n",
    "# print(\"The keys for this dataset are:\")\n",
    "# print(data.keys())"
   ]
  },
  {
   "cell_type": "code",
   "execution_count": 13,
   "metadata": {},
   "outputs": [],
   "source": [
    "# from sklearn.datasets import load_breast_cancer\n",
    "# data = load_breast_cancer()\n",
    "\n",
    "# # You can e.g. see if you can identify the clusters corresponding to malignant/benign tumours:\n",
    "# list(data.target_names)\n",
    "\n",
    "# print(data['DESCR'])\n",
    "# print(\"The keys for this dataset are:\")\n",
    "# print(data.keys())"
   ]
  },
  {
   "cell_type": "markdown",
   "metadata": {},
   "source": [
    "# Exercise 2: Principal component analysis"
   ]
  },
  {
   "cell_type": "markdown",
   "metadata": {},
   "source": [
    "See if you can improve your clustering analysis above by applying it to a few principal components instead of the full dataset. If you do see (new) clusters emerging, can you discern what they represent (e.g. in terms of the original features)?"
   ]
  },
  {
   "cell_type": "code",
   "execution_count": null,
   "metadata": {},
   "outputs": [],
   "source": []
  }
 ],
 "metadata": {
  "kernelspec": {
   "display_name": "Python 3",
   "language": "python",
   "name": "python3"
  },
  "language_info": {
   "codemirror_mode": {
    "name": "ipython",
    "version": 3
   },
   "file_extension": ".py",
   "mimetype": "text/x-python",
   "name": "python",
   "nbconvert_exporter": "python",
   "pygments_lexer": "ipython3",
   "version": "3.7.4"
  }
 },
 "nbformat": 4,
 "nbformat_minor": 2
}
