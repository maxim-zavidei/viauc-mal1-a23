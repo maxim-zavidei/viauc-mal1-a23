{
 "cells": [
  {
   "cell_type": "code",
   "execution_count": 1,
   "metadata": {},
   "outputs": [],
   "source": [
    "import tensorflow as tf\n",
    "from tensorflow.keras import layers\n",
    "\n",
    "from sklearn.datasets import load_digits\n",
    "from sklearn.model_selection import train_test_split\n",
    "\n",
    "import matplotlib.pyplot as plt\n",
    "\n",
    "\n",
    "import numpy as np\n",
    "from numpy.random import seed, randint\n",
    "\n",
    "gpu_options = tf.compat.v1.GPUOptions(per_process_gpu_memory_fraction=0.6)\n",
    "\n",
    "sess = tf.compat.v1.Session(config=tf.compat.v1.ConfigProto(gpu_options=gpu_options))"
   ]
  },
  {
   "cell_type": "code",
   "execution_count": 6,
   "metadata": {},
   "outputs": [
    {
     "data": {
      "text/plain": [
       "'/'"
      ]
     },
     "execution_count": 6,
     "metadata": {},
     "output_type": "execute_result"
    }
   ],
   "source": [
    "import os\n",
    "os.path.abspath(os.getcwd())\n"
   ]
  },
  {
   "cell_type": "code",
   "execution_count": 27,
   "metadata": {},
   "outputs": [
    {
     "name": "stdout",
     "output_type": "stream",
     "text": [
      "(15737, 62, 65, 1)\n",
      "(15737, 4)\n",
      "[[1. 0. 0. 0.]\n",
      " [0. 1. 0. 0.]\n",
      " [0. 0. 0. 1.]\n",
      " ...\n",
      " [0. 0. 0. 1.]\n",
      " [0. 0. 0. 1.]\n",
      " [0. 1. 0. 0.]]\n"
     ]
    }
   ],
   "source": [
    "X = np.load('/project/XSound.npy')\n",
    "Y = tf.keras.utils.to_categorical(np.load('/project/YSound.npy'))\n",
    "#Y = np.load('/project/YSound.npy')\n",
    "print(X.shape)\n",
    "print(Y.shape)\n",
    "print(Y)"
   ]
  },
  {
   "cell_type": "code",
   "execution_count": 28,
   "metadata": {},
   "outputs": [
    {
     "name": "stdout",
     "output_type": "stream",
     "text": [
      "(9441, 62, 65, 1)\n",
      "(9441, 4)\n",
      "(3148, 62, 65, 1)\n",
      "(3148, 4)\n",
      "(3148, 62, 65, 1)\n",
      "(3148, 4)\n"
     ]
    }
   ],
   "source": [
    "X_, X_test, Y_, Y_test = train_test_split(X, Y, train_size=.8, random_state=504)\n",
    "X_train, X_valid, Y_train, Y_valid = train_test_split(X_, Y_, train_size=.75, random_state=504)\n",
    "#X_train, y_train = train_test_split(X_train, Y_train)\n",
    "print(X_train.shape)\n",
    "print(Y_train.shape)\n",
    "print(X_test.shape)\n",
    "print(Y_test.shape)\n",
    "print(X_valid.shape)\n",
    "print(Y_valid.shape)"
   ]
  },
  {
   "cell_type": "code",
   "execution_count": 46,
   "metadata": {},
   "outputs": [
    {
     "name": "stdout",
     "output_type": "stream",
     "text": [
      "(62, 65, 1)\n"
     ]
    }
   ],
   "source": [
    "print(X_train[0].shape)"
   ]
  },
  {
   "cell_type": "code",
   "execution_count": 56,
   "metadata": {},
   "outputs": [
    {
     "name": "stdout",
     "output_type": "stream",
     "text": [
      "Model: \"sequential_14\"\n",
      "_________________________________________________________________\n",
      "Layer (type)                 Output Shape              Param #   \n",
      "=================================================================\n",
      "conv2d_26 (Conv2D)           (None, 62, 65, 16)        160       \n",
      "_________________________________________________________________\n",
      "max_pooling2d_4 (MaxPooling2 (None, 20, 21, 16)        0         \n",
      "_________________________________________________________________\n",
      "spatial_dropout2d_26 (Spatia (None, 20, 21, 16)        0         \n",
      "_________________________________________________________________\n",
      "average_pooling2d_20 (Averag (None, 10, 10, 16)        0         \n",
      "_________________________________________________________________\n",
      "conv2d_27 (Conv2D)           (None, 10, 10, 32)        4640      \n",
      "_________________________________________________________________\n",
      "spatial_dropout2d_27 (Spatia (None, 10, 10, 32)        0         \n",
      "_________________________________________________________________\n",
      "average_pooling2d_21 (Averag (None, 5, 5, 32)          0         \n",
      "_________________________________________________________________\n",
      "conv2d_28 (Conv2D)           (None, 5, 5, 120)         34680     \n",
      "_________________________________________________________________\n",
      "spatial_dropout2d_28 (Spatia (None, 5, 5, 120)         0         \n",
      "_________________________________________________________________\n",
      "flatten_13 (Flatten)         (None, 3000)              0         \n",
      "_________________________________________________________________\n",
      "dense_27 (Dense)             (None, 84)                252084    \n",
      "_________________________________________________________________\n",
      "dropout_13 (Dropout)         (None, 84)                0         \n",
      "_________________________________________________________________\n",
      "dense_28 (Dense)             (None, 4)                 340       \n",
      "=================================================================\n",
      "Total params: 291,904\n",
      "Trainable params: 291,904\n",
      "Non-trainable params: 0\n",
      "_________________________________________________________________\n"
     ]
    }
   ],
   "source": [
    "es = tf.keras.callbacks.EarlyStopping(monitor = 'val_loss', patience = 10, restore_best_weights=True)\n",
    "\n",
    "cnn = tf.keras.models.Sequential([\n",
    "    layers.Conv2D(16, 3, activation='relu', padding='same', input_shape=X_train[0].shape),\n",
    "    layers.MaxPooling2D((3)),\n",
    "    layers.SpatialDropout2D(.4),\n",
    "    layers.AveragePooling2D(),\n",
    "    #layers.Conv2D(32, 3, activation='relu', padding='same'),\n",
    "    #layers.SpatialDropout2D(.4),\n",
    "    #layers.AveragePooling2D(),\n",
    "    #layers.Conv2D(120, 3, activation='relu', padding='same'),\n",
    "    #layers.SpatialDropout2D(.4),\n",
    "    layers.Flatten(),\n",
    "    layers.Dense(units=84, activation='relu'),\n",
    "    layers.Dropout(.4),\n",
    "    layers.Dense(units=4, activation='softmax')\n",
    "])\n",
    "\n",
    "cnn.compile(loss = 'categorical_crossentropy', optimizer = tf.keras.optimizers.Adam(learning_rate = 0.0001), metrics = ['accuracy'])\n",
    "cnn.summary()"
   ]
  },
  {
   "cell_type": "code",
   "execution_count": 50,
   "metadata": {},
   "outputs": [
    {
     "name": "stdout",
     "output_type": "stream",
     "text": [
      "Train on 9441 samples, validate on 3148 samples\n",
      "Epoch 1/100\n",
      "9441/9441 [==============================] - 859s 91ms/sample - loss: 1.3866 - accuracy: 0.2508 - val_loss: 1.3977 - val_accuracy: 0.2367\n",
      "Epoch 2/100\n",
      "9441/9441 [==============================] - 1s 107us/sample - loss: 1.4045 - accuracy: 0.2572 - val_loss: 1.3886 - val_accuracy: 0.2564\n",
      "Epoch 3/100\n",
      "9441/9441 [==============================] - 1s 102us/sample - loss: 1.3913 - accuracy: 0.2557 - val_loss: 1.3877 - val_accuracy: 0.2570\n",
      "Epoch 4/100\n",
      "9441/9441 [==============================] - 1s 118us/sample - loss: 1.3900 - accuracy: 0.2519 - val_loss: 1.3873 - val_accuracy: 0.2564\n",
      "Epoch 5/100\n",
      "9441/9441 [==============================] - 1s 105us/sample - loss: 1.3909 - accuracy: 0.2568 - val_loss: 1.3894 - val_accuracy: 0.2367\n",
      "Epoch 6/100\n",
      "9441/9441 [==============================] - 1s 101us/sample - loss: 1.3917 - accuracy: 0.2491 - val_loss: 1.3882 - val_accuracy: 0.2351\n",
      "Epoch 7/100\n",
      "9441/9441 [==============================] - 1s 100us/sample - loss: 1.3894 - accuracy: 0.2551 - val_loss: 1.3883 - val_accuracy: 0.2405\n",
      "Epoch 8/100\n",
      "9441/9441 [==============================] - 1s 113us/sample - loss: 1.3902 - accuracy: 0.2526 - val_loss: 1.3867 - val_accuracy: 0.2557\n",
      "Epoch 9/100\n",
      "9441/9441 [==============================] - 1s 97us/sample - loss: 1.3909 - accuracy: 0.2504 - val_loss: 1.3870 - val_accuracy: 0.2554\n",
      "Epoch 10/100\n",
      "9441/9441 [==============================] - 1s 99us/sample - loss: 1.3909 - accuracy: 0.2516 - val_loss: 1.3868 - val_accuracy: 0.2557\n",
      "Epoch 11/100\n",
      "9441/9441 [==============================] - 1s 104us/sample - loss: 1.3915 - accuracy: 0.2538 - val_loss: 1.3870 - val_accuracy: 0.2557\n",
      "Epoch 12/100\n",
      "9441/9441 [==============================] - 1s 102us/sample - loss: 1.3889 - accuracy: 0.2570 - val_loss: 1.3870 - val_accuracy: 0.2570\n",
      "Epoch 13/100\n",
      "9441/9441 [==============================] - 1s 102us/sample - loss: 1.3904 - accuracy: 0.2552 - val_loss: 1.3867 - val_accuracy: 0.2557\n",
      "Epoch 14/100\n",
      "9441/9441 [==============================] - 1s 102us/sample - loss: 1.3914 - accuracy: 0.2538 - val_loss: 1.3868 - val_accuracy: 0.2570\n",
      "Epoch 15/100\n",
      "9441/9441 [==============================] - 1s 98us/sample - loss: 1.3904 - accuracy: 0.2561 - val_loss: 1.3871 - val_accuracy: 0.2567\n",
      "Epoch 16/100\n",
      "9441/9441 [==============================] - 1s 120us/sample - loss: 1.3880 - accuracy: 0.2551 - val_loss: 1.3874 - val_accuracy: 0.2579\n",
      "Epoch 17/100\n",
      "9441/9441 [==============================] - 1s 108us/sample - loss: 1.3881 - accuracy: 0.2538 - val_loss: 1.3874 - val_accuracy: 0.2579\n",
      "Epoch 18/100\n",
      "9441/9441 [==============================] - 1s 124us/sample - loss: 1.3890 - accuracy: 0.2551 - val_loss: 1.3870 - val_accuracy: 0.2579\n",
      "Epoch 19/100\n",
      "9441/9441 [==============================] - 1s 113us/sample - loss: 1.3886 - accuracy: 0.2528 - val_loss: 1.3867 - val_accuracy: 0.2589\n",
      "Epoch 20/100\n",
      "9441/9441 [==============================] - 1s 149us/sample - loss: 1.3889 - accuracy: 0.2563 - val_loss: 1.3867 - val_accuracy: 0.2576\n",
      "Epoch 21/100\n",
      "9441/9441 [==============================] - 2s 176us/sample - loss: 1.3905 - accuracy: 0.2495 - val_loss: 1.3866 - val_accuracy: 0.2592\n",
      "Epoch 22/100\n",
      "9441/9441 [==============================] - 1s 134us/sample - loss: 1.3902 - accuracy: 0.2534 - val_loss: 1.3866 - val_accuracy: 0.2579\n",
      "Epoch 23/100\n",
      "9441/9441 [==============================] - 1s 118us/sample - loss: 1.3896 - accuracy: 0.2529 - val_loss: 1.3864 - val_accuracy: 0.2589\n",
      "Epoch 24/100\n",
      "9441/9441 [==============================] - 1s 117us/sample - loss: 1.3884 - accuracy: 0.2541 - val_loss: 1.3867 - val_accuracy: 0.2576\n",
      "Epoch 25/100\n",
      "9441/9441 [==============================] - 1s 122us/sample - loss: 1.3864 - accuracy: 0.2548 - val_loss: 1.3867 - val_accuracy: 0.2570\n",
      "Epoch 26/100\n",
      "9441/9441 [==============================] - 1s 119us/sample - loss: 1.3889 - accuracy: 0.2470 - val_loss: 1.3866 - val_accuracy: 0.2579\n",
      "Epoch 27/100\n",
      "9441/9441 [==============================] - 1s 118us/sample - loss: 1.3870 - accuracy: 0.2537 - val_loss: 1.3866 - val_accuracy: 0.2583\n",
      "Epoch 28/100\n",
      "9441/9441 [==============================] - 1s 123us/sample - loss: 1.3866 - accuracy: 0.2536 - val_loss: 1.3867 - val_accuracy: 0.2579\n",
      "Epoch 29/100\n",
      "9441/9441 [==============================] - 1s 153us/sample - loss: 1.3875 - accuracy: 0.2554 - val_loss: 1.3867 - val_accuracy: 0.2583\n",
      "Epoch 30/100\n",
      "9441/9441 [==============================] - 1s 109us/sample - loss: 1.3888 - accuracy: 0.2534 - val_loss: 1.3867 - val_accuracy: 0.2579\n",
      "Epoch 31/100\n",
      "9441/9441 [==============================] - 1s 103us/sample - loss: 1.3870 - accuracy: 0.2521 - val_loss: 1.3867 - val_accuracy: 0.2579\n",
      "Epoch 32/100\n",
      "9441/9441 [==============================] - 1s 107us/sample - loss: 1.3884 - accuracy: 0.2538 - val_loss: 1.3866 - val_accuracy: 0.2579\n",
      "Epoch 33/100\n",
      "9441/9441 [==============================] - 1s 132us/sample - loss: 1.3884 - accuracy: 0.2558 - val_loss: 1.3866 - val_accuracy: 0.2573\n"
     ]
    }
   ],
   "source": [
    "history = cnn.fit(X_train, Y_train, \n",
    "                    epochs = 100, \n",
    "                    validation_data=(X_valid, Y_valid),\n",
    "                    callbacks=[es])"
   ]
  },
  {
   "cell_type": "code",
   "execution_count": 55,
   "metadata": {},
   "outputs": [
    {
     "name": "stdout",
     "output_type": "stream",
     "text": [
      "9441/9441 [==============================] - 0s 45us/sample - loss: 1.5041 - accuracy: 0.2546\n",
      "3148/3148 [==============================] - 0s 47us/sample - loss: 1.4800 - accuracy: 0.2630\n",
      "On train data: Loss = 1.5041, accuracy = 0.2546\n",
      "On test data: Loss = 1.4800, accuracy = 0.2630\n",
      "Error on test data: 73.70%\n"
     ]
    }
   ],
   "source": [
    "train_eval = cnn.evaluate(X_train[:9441], Y_train[:9441])\n",
    "test_eval = cnn.evaluate(X_test, Y_test)\n",
    "print(\"On train data: Loss = {loss:.4f}, accuracy = {accuracy:.4f}\".format(loss=train_eval[0], accuracy=train_eval[1]))\n",
    "print(\"On test data: Loss = {loss:.4f}, accuracy = {accuracy:.4f}\".format(loss=test_eval[0], accuracy=test_eval[1]))\n",
    "print(\"Error on test data: {p:.2f}%\".format(p = 100*(1-test_eval[1])))"
   ]
  }
 ],
 "metadata": {
  "kernelspec": {
   "display_name": "assignment6",
   "language": "python",
   "name": "assignment6"
  },
  "language_info": {
   "codemirror_mode": {
    "name": "ipython",
    "version": 3
   },
   "file_extension": ".py",
   "mimetype": "text/x-python",
   "name": "python",
   "nbconvert_exporter": "python",
   "pygments_lexer": "ipython3",
   "version": "3.6.9"
  }
 },
 "nbformat": 4,
 "nbformat_minor": 2
}
