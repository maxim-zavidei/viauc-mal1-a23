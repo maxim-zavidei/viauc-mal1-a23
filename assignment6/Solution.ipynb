{
 "cells": [
  {
   "cell_type": "markdown",
   "metadata": {},
   "source": [
    "__(a)__ Train a convolutional neural network on the data. Find a good set of hyperparameters for the model. Do you think a convolutional neural network is suitable for this kind of problem? Why/why not?"
   ]
  },
  {
   "cell_type": "code",
   "execution_count": 1,
   "metadata": {},
   "outputs": [],
   "source": [
    "import tensorflow as tf\n",
    "from tensorflow.keras import layers\n",
    "\n",
    "from sklearn.datasets import load_digits\n",
    "from sklearn.model_selection import train_test_split\n",
    "\n",
    "import matplotlib.pyplot as plt\n",
    "\n",
    "\n",
    "import numpy as np\n",
    "from numpy.random import seed, randint\n",
    "\n",
    "gpu_options = tf.compat.v1.GPUOptions(per_process_gpu_memory_fraction=0.6)\n",
    "\n",
    "sess = tf.compat.v1.Session(config=tf.compat.v1.ConfigProto(gpu_options=gpu_options))"
   ]
  },
  {
   "cell_type": "code",
   "execution_count": 2,
   "metadata": {},
   "outputs": [
    {
     "name": "stdout",
     "output_type": "stream",
     "text": [
      "(15737, 62, 65, 1)\n",
      "(15737, 4)\n",
      "[[1. 0. 0. 0.]\n",
      " [0. 1. 0. 0.]\n",
      " [0. 0. 0. 1.]\n",
      " ...\n",
      " [0. 0. 0. 1.]\n",
      " [0. 0. 0. 1.]\n",
      " [0. 1. 0. 0.]]\n"
     ]
    }
   ],
   "source": [
    "#Those 2 lines are used by Yoana as she is running this in docker\n",
    "X = np.load('/project/XSound.npy')\n",
    "Y = tf.keras.utils.to_categorical(np.load('/project/YSound.npy'))\n",
    "\n",
    "#X = np.load('XSound.npy')\n",
    "#Y = tf.keras.utils.to_categorical(np.load('YSound.npy'))\n",
    "\n",
    "print(X.shape)\n",
    "print(Y.shape)\n",
    "print(Y)"
   ]
  },
  {
   "cell_type": "code",
   "execution_count": 3,
   "metadata": {},
   "outputs": [],
   "source": [
    "X_, X_test, Y_, Y_test = train_test_split(X, Y, train_size=.8, random_state=504)\n",
    "X_train, X_valid, Y_train, Y_valid = train_test_split(X_, Y_, train_size=.75, random_state=504)"
   ]
  },
  {
   "cell_type": "code",
   "execution_count": 4,
   "metadata": {},
   "outputs": [
    {
     "name": "stdout",
     "output_type": "stream",
     "text": [
      "(62, 65, 1)\n"
     ]
    }
   ],
   "source": [
    "print(X_train[0].shape)"
   ]
  },
  {
   "cell_type": "code",
   "execution_count": 5,
   "metadata": {},
   "outputs": [
    {
     "name": "stdout",
     "output_type": "stream",
     "text": [
      "Model: \"sequential\"\n",
      "_________________________________________________________________\n",
      "Layer (type)                 Output Shape              Param #   \n",
      "=================================================================\n",
      "conv2d (Conv2D)              (None, 62, 65, 240)       2400      \n",
      "_________________________________________________________________\n",
      "max_pooling2d (MaxPooling2D) (None, 20, 21, 240)       0         \n",
      "_________________________________________________________________\n",
      "spatial_dropout2d (SpatialDr (None, 20, 21, 240)       0         \n",
      "_________________________________________________________________\n",
      "average_pooling2d (AveragePo (None, 10, 10, 240)       0         \n",
      "_________________________________________________________________\n",
      "conv2d_1 (Conv2D)            (None, 10, 10, 120)       259320    \n",
      "_________________________________________________________________\n",
      "spatial_dropout2d_1 (Spatial (None, 10, 10, 120)       0         \n",
      "_________________________________________________________________\n",
      "average_pooling2d_1 (Average (None, 5, 5, 120)         0         \n",
      "_________________________________________________________________\n",
      "flatten (Flatten)            (None, 3000)              0         \n",
      "_________________________________________________________________\n",
      "dense (Dense)                (None, 150)               450150    \n",
      "_________________________________________________________________\n",
      "dropout (Dropout)            (None, 150)               0         \n",
      "_________________________________________________________________\n",
      "dense_1 (Dense)              (None, 4)                 604       \n",
      "=================================================================\n",
      "Total params: 712,474\n",
      "Trainable params: 712,474\n",
      "Non-trainable params: 0\n",
      "_________________________________________________________________\n"
     ]
    }
   ],
   "source": [
    "es = tf.keras.callbacks.EarlyStopping(monitor = 'val_loss', patience = 10, restore_best_weights=True)\n",
    "\n",
    "cnn = tf.keras.models.Sequential([\n",
    "    layers.Conv2D(240, 3, activation='relu', padding='same', input_shape=X_train[0].shape),\n",
    "    layers.MaxPooling2D((3)),\n",
    "    layers.SpatialDropout2D(.4),\n",
    "    layers.AveragePooling2D(),\n",
    "    layers.Conv2D(120, 3, activation='relu', padding='same'),\n",
    "    layers.SpatialDropout2D(.4),\n",
    "    layers.AveragePooling2D(),\n",
    "    #layers.Conv2D(16, 3, activation='relu', padding='same'),\n",
    "    #layers.SpatialDropout2D(.4),\n",
    "    layers.Flatten(),\n",
    "    layers.Dense(units=150, activation='relu'),\n",
    "    layers.Dropout(.4),\n",
    "    layers.Dense(units=4, activation='softmax')\n",
    "])\n",
    "\n",
    "cnn.compile(loss = 'categorical_crossentropy', optimizer = tf.keras.optimizers.SGD(learning_rate = 0.0001), metrics = ['accuracy'])\n",
    "cnn.summary()"
   ]
  },
  {
   "cell_type": "code",
   "execution_count": 6,
   "metadata": {},
   "outputs": [
    {
     "name": "stdout",
     "output_type": "stream",
     "text": [
      "Train on 9441 samples, validate on 3148 samples\n",
      "Epoch 1/100\n",
      "9441/9441 [==============================] - 674s 71ms/sample - loss: 1.4743 - accuracy: 0.2432 - val_loss: 1.4389 - val_accuracy: 0.2519\n",
      "Epoch 2/100\n",
      "9441/9441 [==============================] - 3s 295us/sample - loss: 1.3865 - accuracy: 0.2507 - val_loss: 1.4389 - val_accuracy: 0.2522\n",
      "Epoch 3/100\n",
      "9441/9441 [==============================] - 3s 286us/sample - loss: 1.3865 - accuracy: 0.2455 - val_loss: 1.4393 - val_accuracy: 0.2522\n",
      "Epoch 4/100\n",
      "9441/9441 [==============================] - 3s 293us/sample - loss: 1.3863 - accuracy: 0.2620 - val_loss: 1.4391 - val_accuracy: 0.2598\n",
      "Epoch 5/100\n",
      "9441/9441 [==============================] - 3s 288us/sample - loss: 1.3864 - accuracy: 0.2527 - val_loss: 1.4396 - val_accuracy: 0.2579\n",
      "Epoch 6/100\n",
      "9441/9441 [==============================] - 3s 286us/sample - loss: 1.3864 - accuracy: 0.2512 - val_loss: 1.4400 - val_accuracy: 0.2541\n",
      "Epoch 7/100\n",
      "9441/9441 [==============================] - 3s 287us/sample - loss: 1.3862 - accuracy: 0.2527 - val_loss: 1.4388 - val_accuracy: 0.2570\n",
      "Epoch 8/100\n",
      "9441/9441 [==============================] - 3s 287us/sample - loss: 1.3864 - accuracy: 0.2622 - val_loss: 1.4411 - val_accuracy: 0.2538\n",
      "Epoch 9/100\n",
      "9441/9441 [==============================] - 3s 289us/sample - loss: 1.3866 - accuracy: 0.2506 - val_loss: 1.4427 - val_accuracy: 0.2579\n",
      "Epoch 10/100\n",
      "9441/9441 [==============================] - 3s 285us/sample - loss: 1.3864 - accuracy: 0.2493 - val_loss: 1.4427 - val_accuracy: 0.2484\n",
      "Epoch 11/100\n",
      "9441/9441 [==============================] - 3s 291us/sample - loss: 1.3863 - accuracy: 0.2589 - val_loss: 1.4413 - val_accuracy: 0.2538\n",
      "Epoch 12/100\n",
      "9441/9441 [==============================] - 3s 288us/sample - loss: 1.3866 - accuracy: 0.2479 - val_loss: 1.4414 - val_accuracy: 0.2544\n",
      "Epoch 13/100\n",
      "9441/9441 [==============================] - 3s 292us/sample - loss: 1.3864 - accuracy: 0.2517 - val_loss: 1.4398 - val_accuracy: 0.2560\n",
      "Epoch 14/100\n",
      "9441/9441 [==============================] - 3s 284us/sample - loss: 1.3865 - accuracy: 0.2566 - val_loss: 1.4432 - val_accuracy: 0.2494\n",
      "Epoch 15/100\n",
      "9441/9441 [==============================] - 3s 299us/sample - loss: 1.3864 - accuracy: 0.2530 - val_loss: 1.4411 - val_accuracy: 0.2522\n",
      "Epoch 16/100\n",
      "9441/9441 [==============================] - 3s 323us/sample - loss: 1.3862 - accuracy: 0.2526 - val_loss: 1.4421 - val_accuracy: 0.2500\n",
      "Epoch 17/100\n",
      "9441/9441 [==============================] - 3s 367us/sample - loss: 1.3864 - accuracy: 0.2497 - val_loss: 1.4427 - val_accuracy: 0.2538\n"
     ]
    }
   ],
   "source": [
    "history = cnn.fit(X_train, Y_train, \n",
    "                    epochs = 100, \n",
    "                    validation_data=(X_valid, Y_valid),\n",
    "                    callbacks=[es])"
   ]
  },
  {
   "cell_type": "code",
   "execution_count": 7,
   "metadata": {},
   "outputs": [
    {
     "name": "stdout",
     "output_type": "stream",
     "text": [
      "9441/9441 [==============================] - 1s 109us/sample - loss: 1.4289 - accuracy: 0.2443\n",
      "3148/3148 [==============================] - 0s 99us/sample - loss: 1.4220 - accuracy: 0.2449\n",
      "On train data: Loss = 1.4289, accuracy = 0.2443\n",
      "On test data: Loss = 1.4220, accuracy = 0.2449\n",
      "Error on test data: 75.51%\n"
     ]
    }
   ],
   "source": [
    "train_eval = cnn.evaluate(X_train[:9441], Y_train[:9441])\n",
    "test_eval = cnn.evaluate(X_test, Y_test)\n",
    "print(\"On train data: Loss = {loss:.4f}, accuracy = {accuracy:.4f}\".format(loss=train_eval[0], accuracy=train_eval[1]))\n",
    "print(\"On test data: Loss = {loss:.4f}, accuracy = {accuracy:.4f}\".format(loss=test_eval[0], accuracy=test_eval[1]))\n",
    "print(\"Error on test data: {p:.2f}%\".format(p = 100*(1-test_eval[1])))"
   ]
  },
  {
   "cell_type": "markdown",
   "metadata": {},
   "source": [
    "__(b)__ Classify instances of the test set using your models. Draw a confusion matrix and comment on the results."
   ]
  },
  {
   "cell_type": "code",
   "execution_count": 8,
   "metadata": {},
   "outputs": [
    {
     "name": "stdout",
     "output_type": "stream",
     "text": [
      "(3148, 4)\n",
      "(3148, 4)\n"
     ]
    },
    {
     "data": {
      "image/png": "[encoded data removed]",
      "text/plain": [
       "<Figure size 432x288 with 2 Axes>"
      ]
     },
     "metadata": {
      "needs_background": "light"
     },
     "output_type": "display_data"
    }
   ],
   "source": [
    "import matplotlib.pyplot as plt\n",
    "import seaborn as sns\n",
    "\n",
    "predictions = cnn.predict(X_test)\n",
    "print(predictions.shape)\n",
    "print(Y_test.shape)\n",
    "\n",
    "mat = tf.math.confusion_matrix(\n",
    "    Y_test.flatten(),\n",
    "    predictions.flatten(),\n",
    "    num_classes=None,\n",
    "    weights=None,\n",
    "    dtype=tf.dtypes.int32,\n",
    "    name=None\n",
    ")\n",
    "\n",
    "sns.heatmap(mat, annot=True, fmt='d', cmap='Blues')\n",
    "plt.ylabel('Actual')\n",
    "plt.xlabel('Predicted')\n",
    "plt.show()"
   ]
  },
  {
   "cell_type": "code",
   "execution_count": 11,
   "metadata": {},
   "outputs": [
    {
     "name": "stdout",
     "output_type": "stream",
     "text": [
      "Confusion matrix:  \n",
      "[[9444    0]\n",
      " [3148    0]]\n",
      "\n",
      "Accuracy: \n",
      "0.5\n",
      "\n",
      "Precision: \n",
      "0.25\n",
      "\n",
      "Recall: \n",
      "0.5\n",
      "\n",
      "F1: \n",
      "0.3333333333333333\n"
     ]
    }
   ],
   "source": [
    "print(\"Confusion matrix:  \\n{}\\n\".format(tf.math.confusion_matrix(\n",
    "    Y_test.flatten(),\n",
    "    predictions.flatten(),\n",
    "    num_classes=None,\n",
    "    weights=None,\n",
    "    dtype=tf.dtypes.int32,\n",
    "    name=None\n",
    ")))\n",
    "\n",
    "TP = tf.math.count_nonzero(predictions.flatten() * Y_test.flatten())\n",
    "TN = tf.math.count_nonzero((predictions.flatten() - 1) * (Y_test.flatten() - 1))\n",
    "FP = tf.math.count_nonzero(predictions.flatten() * (Y_test.flatten() - 1))\n",
    "FN = tf.math.count_nonzero((predictions.flatten() - 1) * Y_test.flatten())\n",
    "\n",
    "precision = TP / (TP + FP)\n",
    "recall = TP / (TP + FN)\n",
    "f1 = 2 * precision * recall / (precision + recall)\n",
    "accuracy = (TP + TN) / (TP + FN + TN + FP)\n",
    "\n",
    "print(\"Accuracy: \\n{}\\n\".format(accuracy))\n",
    "print(\"Precision: \\n{}\\n\".format(precision))\n",
    "print(\"Recall: \\n{}\\n\".format(recall))\n",
    "print(\"F1: \\n{}\".format(f1))"
   ]
  },
  {
   "cell_type": "markdown",
   "metadata": {},
   "source": [
    "__(c)__ Choose one other algorithm from the course, and redo (a) and (b) using this algorithm. Supply a brief discussion of why we would expect this algorithm to do better/worse than the CNN."
   ]
  },
  {
   "cell_type": "code",
   "execution_count": 25,
   "metadata": {},
   "outputs": [
    {
     "name": "stdout",
     "output_type": "stream",
     "text": [
      "53613.36110051616\n"
     ]
    },
    {
     "data": {
      "text/plain": [
       "Ridge(alpha=53613.36110051616)"
      ]
     },
     "execution_count": 25,
     "metadata": {},
     "output_type": "execute_result"
    }
   ],
   "source": [
    "from sklearn.linear_model import Ridge, RidgeCV\n",
    "from sklearn.metrics import mean_squared_error\n",
    "import pandas as pd\n",
    "from sklearn.preprocessing import StandardScaler\n",
    "from sklearn.pipeline import make_pipeline \n",
    "import numpy as np\n",
    "from sklearn.model_selection import train_test_split\n",
    "\n",
    "#Those 2 lines are used by Yoana as she is running this in docker\n",
    "X = np.load('/project/XSound.npy')\n",
    "Y = np.load('/project/YSound.npy')\n",
    "\n",
    "#X = np.load('XSound.npy')\n",
    "#Y = tf.keras.utils.to_categorical(np.load('YSound.npy'))\n",
    "\n",
    "X_df = pd.DataFrame(X.reshape(-1, 4030))\n",
    "Y_df = pd.DataFrame(Y)\n",
    "\n",
    "X_train, X_test, Y_train, Y_test = train_test_split(X_df, Y_df, train_size=.8, random_state=0)\n",
    "\n",
    "# Create a pipeline with StandardScaler and RidgeCV\n",
    "alphas = 10**np.linspace(10,-2,100)*0.5\n",
    "ridgecv = make_pipeline(StandardScaler(), RidgeCV(alphas=alphas, scoring='neg_mean_squared_error'))\n",
    "ridgecv.fit(X_train, Y_train)\n",
    "\n",
    "# Access the chosen alpha value from RidgeCV\n",
    "chosen_alpha = ridgecv.named_steps['ridgecv'].alpha_\n",
    "print(chosen_alpha)\n",
    "\n",
    "# # Create a Ridge model using the chosen alpha from RidgeCV\n",
    "ridge_model = Ridge(alpha=ridgecv.named_steps['ridgecv'].alpha_)\n",
    "ridge_model.fit(X_train, Y_train)\n"
   ]
  },
  {
   "cell_type": "code",
   "execution_count": 41,
   "metadata": {},
   "outputs": [
    {
     "name": "stdout",
     "output_type": "stream",
     "text": [
      "R^2 on train data is 0.3162739711287469 and on test data is 0.30584181453612036\n",
      "[[-1.9896817e-03  1.6974082e-04 -3.1041057e-04 ...  2.8298073e-05\n",
      "   7.0328970e-05 -2.3081271e-05]]\n",
      "0.8835193682117054\n",
      "[-1.96896    -1.239222   -0.91658115 ...  5.091192    6.12128\n",
      "  6.3066916 ]\n",
      "[0 1 2 3]\n"
     ]
    },
    {
     "data": {
      "image/png": "[encoded data removed]",
      "text/plain": [
       "<Figure size 432x288 with 2 Axes>"
      ]
     },
     "metadata": {
      "needs_background": "light"
     },
     "output_type": "display_data"
    }
   ],
   "source": [
    "from sklearn.metrics import  confusion_matrix\n",
    "\n",
    "#Show R^2\n",
    "print(\"R^2 on train data is {} and on test data is {}\".format(ridge_model.score(X_train, Y_train), \n",
    "                                                              ridge_model.score(X_test,Y_test)))\n",
    "print(ridge_model.coef_)\n",
    "# Calculate the test MSE using the trained Ridge model\n",
    "predictions = ridge_model.predict(X_test)\n",
    "mse = mean_squared_error(Y_test, predictions)\n",
    "print(mse)   \n",
    "#ridge_model.fit(X_df, Y_df)\n",
    "predictions_asint = np.rint(predictions).astype(int)\n",
    "predictions_df = pd.DataFrame(predictions_asint)\n",
    "\n",
    "#Create confusion matrix\n",
    "mat = confusion_matrix(Y_test, predictions_df)\n",
    "\n",
    "sns.heatmap(mat, annot=True, fmt='d', cmap='Blues')\n",
    "plt.ylabel('Actual')\n",
    "plt.xlabel('Predicted')\n",
    "plt.show()"
   ]
  }
 ],
 "metadata": {
  "kernelspec": {
   "display_name": "assignment6",
   "language": "python",
   "name": "assignment6"
  },
  "language_info": {
   "codemirror_mode": {
    "name": "ipython",
    "version": 3
   },
   "file_extension": ".py",
   "mimetype": "text/x-python",
   "name": "python",
   "nbconvert_exporter": "python",
   "pygments_lexer": "ipython3",
   "version": "3.6.9"
  }
 },
 "nbformat": 4,
 "nbformat_minor": 2
}
